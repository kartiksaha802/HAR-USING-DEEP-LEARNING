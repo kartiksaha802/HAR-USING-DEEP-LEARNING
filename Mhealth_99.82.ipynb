{
 "cells": [
  {
   "cell_type": "code",
   "execution_count": 109,
   "metadata": {
    "id": "KH56tr55YnMN"
   },
   "outputs": [],
   "source": [
    "import pandas as pd\n",
    "import numpy as np\n",
    "import matplotlib.pyplot as plt\n",
    "import seaborn as sns\n",
    "from scipy import stats\n",
    "from sklearn import metrics\n",
    "from sklearn.model_selection import train_test_split\n",
    "from keras.models import Sequential, Model\n",
    "from keras.layers import Dense\n",
    "from keras.layers import Flatten\n",
    "from keras.layers import Dropout\n",
    "#import keras_tuner as kt\n",
    "from keras.callbacks import ModelCheckpoint\n",
    "from keras.layers.convolutional import Conv1D\n",
    "from keras.layers.convolutional import MaxPooling1D\n",
    "#Importing libraries\n",
    "import sys \n",
    "import numpy\n",
    "import xlrd #excel read\n",
    "import os\n",
    "import matplotlib.pyplot as plt\n",
    "import io\n",
    "import math\n",
    "from sklearn import preprocessing\n",
    "from sklearn.preprocessing import MinMaxScaler, StandardScaler\n",
    "from sklearn.ensemble import AdaBoostRegressor, RandomForestRegressor\n",
    "from scipy.signal import savgol_filter\n",
    "from scipy import signal\n",
    "from scipy.spatial import distance\n",
    "from sklearn.model_selection import train_test_split\n",
    " \n",
    "from tensorflow import keras, convert_to_tensor, float32, make_ndarray\n",
    "from tensorflow.compat.v1 import Session\n",
    "from tensorflow.keras import layers, backend\n",
    "from tensorflow.keras.utils import plot_model\n",
    "from tensorflow.keras.models import Sequential, Model\n",
    "from tensorflow.keras.layers import Dense, Flatten, Input, GlobalAveragePooling1D, Dropout\n",
    "from tensorflow.keras.layers import LSTM, GRU, Conv1D, MaxPooling1D, MaxPool1D, TimeDistributed, RepeatVector, Conv2D\n",
    "from keras.layers import concatenate\n",
    "from tensorflow.keras.wrappers.scikit_learn import KerasRegressor\n",
    "import random\n",
    "from sklearn.metrics import mean_absolute_error\n",
    "RANDOM_SEED=42\n",
    "from keras.layers import Concatenate"
   ]
  },
  {
   "cell_type": "code",
   "execution_count": 110,
   "metadata": {},
   "outputs": [],
   "source": [
    "# Importing libraries\n",
    "from keras import backend as K\n",
    "from keras.models import Sequential\n",
    "from keras.layers import LSTM, TimeDistributed, Conv1D, MaxPooling1D, Flatten,Bidirectional\n",
    "from keras.layers.core import Dense, Dropout\n",
    "import tensorflow as tf\n",
    "from keras.utils import plot_model\n",
    "import json\n",
    "from keras.models import load_model"
   ]
  },
  {
   "cell_type": "code",
   "execution_count": 111,
   "metadata": {
    "colab": {
     "base_uri": "https://localhost:8080/"
    },
    "id": "3k30QcOQWECr",
    "outputId": "bcc2f19a-9e40-4c92-9255-96c086be37cd"
   },
   "outputs": [
    {
     "name": "stdout",
     "output_type": "stream",
     "text": [
      "2.10.0\n"
     ]
    }
   ],
   "source": [
    "import pandas as pd\n",
    "import numpy as np\n",
    "import matplotlib.pyplot as plt\n",
    "import seaborn as sns\n",
    "from scipy import stats\n",
    "from sklearn import metrics\n",
    "from sklearn.model_selection import train_test_split\n",
    "from keras.models import Sequential, Model\n",
    "from keras.layers import Dense\n",
    "from keras.layers import Flatten\n",
    "from keras.layers import Dropout\n",
    "from keras.callbacks import ModelCheckpoint\n",
    "from keras.layers.convolutional import Conv1D\n",
    "from keras.layers.convolutional import MaxPooling1D\n",
    "RANDOM_SEED=42\n",
    "\n",
    "#Importing libraries\n",
    "import sys \n",
    "import numpy\n",
    "import xlrd #excel read\n",
    "import os\n",
    "import io\n",
    "import math\n",
    "from sklearn import preprocessing\n",
    "from sklearn.preprocessing import MinMaxScaler, StandardScaler\n",
    "from sklearn.ensemble import AdaBoostRegressor, RandomForestRegressor\n",
    "from scipy.signal import savgol_filter\n",
    "from scipy import signal\n",
    "from scipy.spatial import distance\n",
    "from sklearn.model_selection import train_test_split\n",
    "from tensorflow import keras, convert_to_tensor, float32, make_ndarray\n",
    "from tensorflow.compat.v1 import Session\n",
    "from tensorflow.keras import layers, backend\n",
    "from tensorflow.keras.utils import plot_model\n",
    "from tensorflow.keras.models import Sequential, Model\n",
    "from tensorflow.keras.layers import Dense, Flatten, Input, GlobalAveragePooling1D, Dropout\n",
    "from tensorflow.keras.layers import LSTM, GRU, Conv1D, MaxPooling1D, MaxPool1D, TimeDistributed, RepeatVector, Conv2D\n",
    "from keras.layers import concatenate\n",
    "from tensorflow.keras.wrappers.scikit_learn import KerasRegressor\n",
    "import random\n",
    "from sklearn.metrics import mean_absolute_error\n",
    "import tensorflow as tf\n",
    "from tensorflow.keras import Sequential\n",
    "from tensorflow.keras.layers import Flatten, Dense, Dropout, BatchNormalization\n",
    "from tensorflow.keras.layers import Conv2D, MaxPool2D, MaxPool1D, Bidirectional\n",
    "from tensorflow.keras.optimizers import Adam, RMSprop\n",
    "print(tf.__version__)\n"
   ]
  },
  {
   "cell_type": "code",
   "execution_count": 112,
   "metadata": {
    "id": "ncMnFMoCV_ej"
   },
   "outputs": [],
   "source": [
    "from tensorflow import keras\n",
    "from tensorflow.keras import layers"
   ]
  },
  {
   "cell_type": "code",
   "execution_count": 113,
   "metadata": {
    "colab": {
     "base_uri": "https://localhost:8080/"
    },
    "id": "Ge4_xCK-XCk6",
    "outputId": "d6bc5a85-1dc4-4369-b650-1ca52917cdca"
   },
   "outputs": [],
   "source": [
    "#from google.colab import drive\n",
    "#drive.mount('/content/drive')\n"
   ]
  },
  {
   "cell_type": "code",
   "execution_count": 114,
   "metadata": {
    "id": "wkDV9bV4Y3mn"
   },
   "outputs": [],
   "source": [
    "df = pd.read_csv('MHEALTH/mhealth_raw_data.csv')"
   ]
  },
  {
   "cell_type": "code",
   "execution_count": 115,
   "metadata": {
    "colab": {
     "base_uri": "https://localhost:8080/",
     "height": 424
    },
    "id": "Xw--oxyUVDEG",
    "outputId": "4272da7e-ff4f-49bf-a43a-39b732825808"
   },
   "outputs": [
    {
     "data": {
      "text/html": [
       "<div>\n",
       "<style scoped>\n",
       "    .dataframe tbody tr th:only-of-type {\n",
       "        vertical-align: middle;\n",
       "    }\n",
       "\n",
       "    .dataframe tbody tr th {\n",
       "        vertical-align: top;\n",
       "    }\n",
       "\n",
       "    .dataframe thead th {\n",
       "        text-align: right;\n",
       "    }\n",
       "</style>\n",
       "<table border=\"1\" class=\"dataframe\">\n",
       "  <thead>\n",
       "    <tr style=\"text-align: right;\">\n",
       "      <th></th>\n",
       "      <th>alx</th>\n",
       "      <th>aly</th>\n",
       "      <th>alz</th>\n",
       "      <th>glx</th>\n",
       "      <th>gly</th>\n",
       "      <th>glz</th>\n",
       "      <th>arx</th>\n",
       "      <th>ary</th>\n",
       "      <th>arz</th>\n",
       "      <th>grx</th>\n",
       "      <th>gry</th>\n",
       "      <th>grz</th>\n",
       "      <th>Activity</th>\n",
       "      <th>subject</th>\n",
       "    </tr>\n",
       "  </thead>\n",
       "  <tbody>\n",
       "    <tr>\n",
       "      <th>0</th>\n",
       "      <td>2.1849</td>\n",
       "      <td>-9.6967</td>\n",
       "      <td>0.63077</td>\n",
       "      <td>0.103900</td>\n",
       "      <td>-0.84053</td>\n",
       "      <td>-0.68762</td>\n",
       "      <td>-8.6499</td>\n",
       "      <td>-4.5781</td>\n",
       "      <td>0.187760</td>\n",
       "      <td>-0.449020</td>\n",
       "      <td>-1.01030</td>\n",
       "      <td>0.034483</td>\n",
       "      <td>0</td>\n",
       "      <td>subject1</td>\n",
       "    </tr>\n",
       "    <tr>\n",
       "      <th>1</th>\n",
       "      <td>2.3876</td>\n",
       "      <td>-9.5080</td>\n",
       "      <td>0.68389</td>\n",
       "      <td>0.085343</td>\n",
       "      <td>-0.83865</td>\n",
       "      <td>-0.68369</td>\n",
       "      <td>-8.6275</td>\n",
       "      <td>-4.3198</td>\n",
       "      <td>0.023595</td>\n",
       "      <td>-0.449020</td>\n",
       "      <td>-1.01030</td>\n",
       "      <td>0.034483</td>\n",
       "      <td>0</td>\n",
       "      <td>subject1</td>\n",
       "    </tr>\n",
       "    <tr>\n",
       "      <th>2</th>\n",
       "      <td>2.4086</td>\n",
       "      <td>-9.5674</td>\n",
       "      <td>0.68113</td>\n",
       "      <td>0.085343</td>\n",
       "      <td>-0.83865</td>\n",
       "      <td>-0.68369</td>\n",
       "      <td>-8.5055</td>\n",
       "      <td>-4.2772</td>\n",
       "      <td>0.275720</td>\n",
       "      <td>-0.449020</td>\n",
       "      <td>-1.01030</td>\n",
       "      <td>0.034483</td>\n",
       "      <td>0</td>\n",
       "      <td>subject1</td>\n",
       "    </tr>\n",
       "    <tr>\n",
       "      <th>3</th>\n",
       "      <td>2.1814</td>\n",
       "      <td>-9.4301</td>\n",
       "      <td>0.55031</td>\n",
       "      <td>0.085343</td>\n",
       "      <td>-0.83865</td>\n",
       "      <td>-0.68369</td>\n",
       "      <td>-8.6279</td>\n",
       "      <td>-4.3163</td>\n",
       "      <td>0.367520</td>\n",
       "      <td>-0.456860</td>\n",
       "      <td>-1.00820</td>\n",
       "      <td>0.025862</td>\n",
       "      <td>0</td>\n",
       "      <td>subject1</td>\n",
       "    </tr>\n",
       "    <tr>\n",
       "      <th>4</th>\n",
       "      <td>2.4173</td>\n",
       "      <td>-9.3889</td>\n",
       "      <td>0.71098</td>\n",
       "      <td>0.085343</td>\n",
       "      <td>-0.83865</td>\n",
       "      <td>-0.68369</td>\n",
       "      <td>-8.7008</td>\n",
       "      <td>-4.1459</td>\n",
       "      <td>0.407290</td>\n",
       "      <td>-0.456860</td>\n",
       "      <td>-1.00820</td>\n",
       "      <td>0.025862</td>\n",
       "      <td>0</td>\n",
       "      <td>subject1</td>\n",
       "    </tr>\n",
       "    <tr>\n",
       "      <th>...</th>\n",
       "      <td>...</td>\n",
       "      <td>...</td>\n",
       "      <td>...</td>\n",
       "      <td>...</td>\n",
       "      <td>...</td>\n",
       "      <td>...</td>\n",
       "      <td>...</td>\n",
       "      <td>...</td>\n",
       "      <td>...</td>\n",
       "      <td>...</td>\n",
       "      <td>...</td>\n",
       "      <td>...</td>\n",
       "      <td>...</td>\n",
       "      <td>...</td>\n",
       "    </tr>\n",
       "    <tr>\n",
       "      <th>1215740</th>\n",
       "      <td>1.7849</td>\n",
       "      <td>-9.8287</td>\n",
       "      <td>0.29725</td>\n",
       "      <td>-0.341370</td>\n",
       "      <td>-0.90056</td>\n",
       "      <td>-0.61493</td>\n",
       "      <td>-3.7198</td>\n",
       "      <td>-8.9071</td>\n",
       "      <td>0.294230</td>\n",
       "      <td>0.041176</td>\n",
       "      <td>-0.99384</td>\n",
       "      <td>-0.480600</td>\n",
       "      <td>0</td>\n",
       "      <td>subject10</td>\n",
       "    </tr>\n",
       "    <tr>\n",
       "      <th>1215741</th>\n",
       "      <td>1.8687</td>\n",
       "      <td>-9.8766</td>\n",
       "      <td>0.46236</td>\n",
       "      <td>-0.341370</td>\n",
       "      <td>-0.90056</td>\n",
       "      <td>-0.61493</td>\n",
       "      <td>-3.7160</td>\n",
       "      <td>-8.7455</td>\n",
       "      <td>0.448140</td>\n",
       "      <td>0.041176</td>\n",
       "      <td>-0.99384</td>\n",
       "      <td>-0.480600</td>\n",
       "      <td>0</td>\n",
       "      <td>subject10</td>\n",
       "    </tr>\n",
       "    <tr>\n",
       "      <th>1215742</th>\n",
       "      <td>1.6928</td>\n",
       "      <td>-9.9290</td>\n",
       "      <td>0.16631</td>\n",
       "      <td>-0.341370</td>\n",
       "      <td>-0.90056</td>\n",
       "      <td>-0.61493</td>\n",
       "      <td>-3.8824</td>\n",
       "      <td>-9.1155</td>\n",
       "      <td>0.450480</td>\n",
       "      <td>0.041176</td>\n",
       "      <td>-0.99384</td>\n",
       "      <td>-0.480600</td>\n",
       "      <td>0</td>\n",
       "      <td>subject10</td>\n",
       "    </tr>\n",
       "    <tr>\n",
       "      <th>1215743</th>\n",
       "      <td>1.5279</td>\n",
       "      <td>-9.6306</td>\n",
       "      <td>0.30458</td>\n",
       "      <td>-0.341370</td>\n",
       "      <td>-0.90056</td>\n",
       "      <td>-0.61493</td>\n",
       "      <td>-3.5564</td>\n",
       "      <td>-9.1441</td>\n",
       "      <td>0.594880</td>\n",
       "      <td>0.041176</td>\n",
       "      <td>-0.99384</td>\n",
       "      <td>-0.480600</td>\n",
       "      <td>0</td>\n",
       "      <td>subject10</td>\n",
       "    </tr>\n",
       "    <tr>\n",
       "      <th>1215744</th>\n",
       "      <td>1.6614</td>\n",
       "      <td>-9.8398</td>\n",
       "      <td>0.18088</td>\n",
       "      <td>-0.332100</td>\n",
       "      <td>-0.90432</td>\n",
       "      <td>-0.61886</td>\n",
       "      <td>-3.9035</td>\n",
       "      <td>-8.9324</td>\n",
       "      <td>0.761710</td>\n",
       "      <td>0.035294</td>\n",
       "      <td>-1.02050</td>\n",
       "      <td>-0.471980</td>\n",
       "      <td>0</td>\n",
       "      <td>subject10</td>\n",
       "    </tr>\n",
       "  </tbody>\n",
       "</table>\n",
       "<p>1215745 rows × 14 columns</p>\n",
       "</div>"
      ],
      "text/plain": [
       "            alx     aly      alz       glx      gly      glz     arx     ary  \\\n",
       "0        2.1849 -9.6967  0.63077  0.103900 -0.84053 -0.68762 -8.6499 -4.5781   \n",
       "1        2.3876 -9.5080  0.68389  0.085343 -0.83865 -0.68369 -8.6275 -4.3198   \n",
       "2        2.4086 -9.5674  0.68113  0.085343 -0.83865 -0.68369 -8.5055 -4.2772   \n",
       "3        2.1814 -9.4301  0.55031  0.085343 -0.83865 -0.68369 -8.6279 -4.3163   \n",
       "4        2.4173 -9.3889  0.71098  0.085343 -0.83865 -0.68369 -8.7008 -4.1459   \n",
       "...         ...     ...      ...       ...      ...      ...     ...     ...   \n",
       "1215740  1.7849 -9.8287  0.29725 -0.341370 -0.90056 -0.61493 -3.7198 -8.9071   \n",
       "1215741  1.8687 -9.8766  0.46236 -0.341370 -0.90056 -0.61493 -3.7160 -8.7455   \n",
       "1215742  1.6928 -9.9290  0.16631 -0.341370 -0.90056 -0.61493 -3.8824 -9.1155   \n",
       "1215743  1.5279 -9.6306  0.30458 -0.341370 -0.90056 -0.61493 -3.5564 -9.1441   \n",
       "1215744  1.6614 -9.8398  0.18088 -0.332100 -0.90432 -0.61886 -3.9035 -8.9324   \n",
       "\n",
       "              arz       grx      gry       grz  Activity    subject  \n",
       "0        0.187760 -0.449020 -1.01030  0.034483         0   subject1  \n",
       "1        0.023595 -0.449020 -1.01030  0.034483         0   subject1  \n",
       "2        0.275720 -0.449020 -1.01030  0.034483         0   subject1  \n",
       "3        0.367520 -0.456860 -1.00820  0.025862         0   subject1  \n",
       "4        0.407290 -0.456860 -1.00820  0.025862         0   subject1  \n",
       "...           ...       ...      ...       ...       ...        ...  \n",
       "1215740  0.294230  0.041176 -0.99384 -0.480600         0  subject10  \n",
       "1215741  0.448140  0.041176 -0.99384 -0.480600         0  subject10  \n",
       "1215742  0.450480  0.041176 -0.99384 -0.480600         0  subject10  \n",
       "1215743  0.594880  0.041176 -0.99384 -0.480600         0  subject10  \n",
       "1215744  0.761710  0.035294 -1.02050 -0.471980         0  subject10  \n",
       "\n",
       "[1215745 rows x 14 columns]"
      ]
     },
     "execution_count": 115,
     "metadata": {},
     "output_type": "execute_result"
    }
   ],
   "source": [
    "df"
   ]
  },
  {
   "cell_type": "code",
   "execution_count": 116,
   "metadata": {
    "id": "1DEYbwnZZESR"
   },
   "outputs": [],
   "source": [
    "df.Activity.value_counts()\n",
    "from sklearn.utils import resample"
   ]
  },
  {
   "cell_type": "code",
   "execution_count": 117,
   "metadata": {
    "id": "f-klcUJdVKP0"
   },
   "outputs": [],
   "source": [
    "df_0 = df[df.Activity==0]\n",
    "df_1 = df[df.Activity==1]\n",
    "df_2 = df[df.Activity==2]\n",
    "df_3 = df[df.Activity==3]\n",
    "df_4 = df[df.Activity==4]\n",
    "df_5 = df[df.Activity==5]\n",
    "df_6 = df[df.Activity==6]\n",
    "df_7 = df[df.Activity==7]\n",
    "df_8 = df[df.Activity==8]\n",
    "df_9 = df[df.Activity==9]\n",
    "df_10 = df[df.Activity==10]\n",
    "df_11 = df[df.Activity==11]\n",
    "df_12 = df[df.Activity==12]"
   ]
  },
  {
   "cell_type": "code",
   "execution_count": 118,
   "metadata": {
    "id": "BzwvAVdPVMlh"
   },
   "outputs": [],
   "source": [
    "df_majority_downsampled_0 = resample(df_0,n_samples=100000, random_state=42)\n"
   ]
  },
  {
   "cell_type": "code",
   "execution_count": 119,
   "metadata": {
    "id": "hvJivD4UVQYE"
   },
   "outputs": [],
   "source": [
    "df1 = pd.concat([df_1,df_2,df_3,df_4,df_5,df_6,df_7,df_8,df_9,df_10,df_11,df_12])"
   ]
  },
  {
   "cell_type": "code",
   "execution_count": 120,
   "metadata": {
    "colab": {
     "base_uri": "https://localhost:8080/"
    },
    "id": "73lZEyIFVWXu",
    "outputId": "b9287b6b-aaa3-4732-9330-9560401188b1"
   },
   "outputs": [
    {
     "data": {
      "text/plain": [
       "1     30720\n",
       "2     30720\n",
       "3     30720\n",
       "4     30720\n",
       "5     30720\n",
       "9     30720\n",
       "10    30720\n",
       "11    30720\n",
       "7     29441\n",
       "8     29337\n",
       "6     28315\n",
       "12    10342\n",
       "Name: Activity, dtype: int64"
      ]
     },
     "execution_count": 120,
     "metadata": {},
     "output_type": "execute_result"
    }
   ],
   "source": [
    "df1.Activity.value_counts()"
   ]
  },
  {
   "cell_type": "code",
   "execution_count": 121,
   "metadata": {
    "id": "z9NYl7eQVarn"
   },
   "outputs": [],
   "source": [
    "LABELS = [\"Standing still\", \"Sitting and relaxing\", \"Lying down\", \"Walking\", \"Climbing stairs\", \"Waist bends forward\", \"Frontal elevation of arms\", \"Knees bending (crouching)\", \"Cycling\", \"Jogging\", \"Running\", \"Jump front & back\"]\n"
   ]
  },
  {
   "cell_type": "code",
   "execution_count": 122,
   "metadata": {
    "id": "AfzyiPT_Vfo0"
   },
   "outputs": [],
   "source": [
    "df=df1\n",
    "\n",
    "df['alx']= df['alx']/df['alx'].max()\n",
    "df['aly']= df['aly']/df['aly'].max()\n",
    "df['alz']= df['alz']/df['alz'].max()\n",
    "\n",
    "df['glx']= df['glx']/df['glx'].max()\n",
    "df['gly']= df['gly']/df['gly'].max()\n",
    "df['glz']= df['glz']/df['glz'].max()\n",
    "\n",
    "df['arx']= df['arx']/df['arx'].max()\n",
    "df['ary']= df['ary']/df['ary'].max()\n",
    "df['arz']= df['arz']/df['arz'].max()\n",
    "\n",
    "df['grx']= df['grx']/df['grx'].max()\n",
    "df['gry']= df['gry']/df['gry'].max()\n",
    "df['grz']= df['grz']/df['grz'].max()\n",
    "df = df.round({'alx': 4, 'aly': 4, 'alz': 4, 'glx': 4, 'gly': 4, 'glz': 4, 'arx': 4, 'ary': 4, 'arz': 4, 'grx': 4, 'gry': 4, 'grz': 4})"
   ]
  },
  {
   "cell_type": "code",
   "execution_count": 123,
   "metadata": {
    "colab": {
     "base_uri": "https://localhost:8080/"
    },
    "id": "a0AikZ1tVqnj",
    "outputId": "7e4a374c-2fce-4bd0-a9c3-8af4c97a5a66"
   },
   "outputs": [
    {
     "data": {
      "text/plain": [
       "array([1., 0., 0., 0., 0., 0., 0., 0., 0., 0., 0., 0.], dtype=float32)"
      ]
     },
     "execution_count": 123,
     "metadata": {},
     "output_type": "execute_result"
    }
   ],
   "source": [
    "from scipy import stats\n",
    "N_TIME_STEPS = 64\n",
    "N_FEATURES = 12\n",
    "\n",
    "step = 20\n",
    "segments = []\n",
    "labels = []\n",
    "for i in range(0, len(df) - N_TIME_STEPS, step):\n",
    "    alx = df['alx'].values[i: i + N_TIME_STEPS]\n",
    "    aly = df['aly'].values[i: i + N_TIME_STEPS]\n",
    "    alz = df['alz'].values[i: i + N_TIME_STEPS]\n",
    "    glx = df['glx'].values[i: i + N_TIME_STEPS]\n",
    "    gly = df['gly'].values[i: i + N_TIME_STEPS]\n",
    "    glz = df['glz'].values[i: i + N_TIME_STEPS]\n",
    "    arx = df['arx'].values[i: i + N_TIME_STEPS]\n",
    "    ary = df['ary'].values[i: i + N_TIME_STEPS]\n",
    "    arz = df['arz'].values[i: i + N_TIME_STEPS]\n",
    "    grx = df['grx'].values[i: i + N_TIME_STEPS]\n",
    "    gry = df['gry'].values[i: i + N_TIME_STEPS]\n",
    "    grz = df['grz'].values[i: i + N_TIME_STEPS]\n",
    "    label = stats.mode(df['Activity'][i: i + N_TIME_STEPS])[0][0]\n",
    "    segments.append([alx,aly,alz,glx,gly,glz,arx,ary,arz,grx,gry,grz])\n",
    "    labels.append(label)\n",
    "\n",
    "reshaped_segments = np.asarray(segments, dtype= np.float32).reshape(-1, N_TIME_STEPS, N_FEATURES)\n",
    "reshaped_segments.shape\n",
    "\n",
    "labels = np.asarray(pd.get_dummies(labels), dtype = np.float32)\n",
    "labels[2]\n"
   ]
  },
  {
   "cell_type": "code",
   "execution_count": 124,
   "metadata": {},
   "outputs": [
    {
     "data": {
      "text/plain": [
       "(17157, 64, 12)"
      ]
     },
     "execution_count": 124,
     "metadata": {},
     "output_type": "execute_result"
    }
   ],
   "source": [
    "X=reshaped_segments \n",
    "y=labels \n",
    "X.shape"
   ]
  },
  {
   "cell_type": "code",
   "execution_count": 125,
   "metadata": {},
   "outputs": [
    {
     "data": {
      "text/plain": [
       "(17157,)"
      ]
     },
     "execution_count": 125,
     "metadata": {},
     "output_type": "execute_result"
    }
   ],
   "source": [
    "y=np.argmax(y,axis=1)\n",
    "y.shape"
   ]
  },
  {
   "cell_type": "code",
   "execution_count": 126,
   "metadata": {},
   "outputs": [],
   "source": [
    "X=X[0:17150]\n",
    "y=y[0:17150]"
   ]
  },
  {
   "cell_type": "code",
   "execution_count": 127,
   "metadata": {
    "id": "C4rDSvvcVxbp"
   },
   "outputs": [],
   "source": [
    "from sklearn.model_selection import train_test_split\n",
    "X_train, X_test, Y_train, Y_test = train_test_split(\n",
    "        reshaped_segments, labels, test_size=0.2, random_state=42)"
   ]
  },
  {
   "cell_type": "code",
   "execution_count": 128,
   "metadata": {
    "colab": {
     "base_uri": "https://localhost:8080/"
    },
    "id": "r5Py_KEkV0eq",
    "outputId": "90247c1f-eeab-4553-9266-980648c67895"
   },
   "outputs": [
    {
     "name": "stdout",
     "output_type": "stream",
     "text": [
      "X_train :  13725\n",
      "X_test :  3432\n"
     ]
    },
    {
     "data": {
      "text/plain": [
       "((13725, 64, 12), (13725, 12), (3432, 64, 12), (3432, 12))"
      ]
     },
     "execution_count": 128,
     "metadata": {},
     "output_type": "execute_result"
    }
   ],
   "source": [
    "print('X_train : ', len(X_train))\n",
    "print('X_test : ', len(X_test))\n",
    "X_train.shape, Y_train.shape, X_test.shape, Y_test.shape"
   ]
  },
  {
   "cell_type": "code",
   "execution_count": 129,
   "metadata": {
    "colab": {
     "base_uri": "https://localhost:8080/"
    },
    "id": "Pwo_oB9HXnuy",
    "outputId": "63fc3b70-6306-4d9d-95af-56f10e684e6f"
   },
   "outputs": [
    {
     "data": {
      "text/plain": [
       "array([0., 1., 0., 0., 0., 0., 0., 0., 0., 0., 0., 0.], dtype=float32)"
      ]
     },
     "execution_count": 129,
     "metadata": {},
     "output_type": "execute_result"
    }
   ],
   "source": [
    "Y_train[4589]"
   ]
  },
  {
   "cell_type": "code",
   "execution_count": 130,
   "metadata": {
    "colab": {
     "base_uri": "https://localhost:8080/"
    },
    "id": "bGE6brwsWuMp",
    "outputId": "c6504882-ee4b-4e00-cbfd-eac951dc098b"
   },
   "outputs": [
    {
     "name": "stdout",
     "output_type": "stream",
     "text": [
      "(13725,)\n",
      "(3432,)\n"
     ]
    }
   ],
   "source": [
    "y_train=np.argmax(Y_train,axis=1)\n",
    "y_test=np.argmax(Y_test,axis=1)\n",
    "print(y_train.shape)\n",
    "print(y_test.shape)\n",
    "\n"
   ]
  },
  {
   "cell_type": "code",
   "execution_count": 131,
   "metadata": {
    "colab": {
     "base_uri": "https://localhost:8080/"
    },
    "id": "pit_XqF3V696",
    "outputId": "28eb1501-dea7-4e52-bf39-68cb56937ce0"
   },
   "outputs": [
    {
     "name": "stdout",
     "output_type": "stream",
     "text": [
      "n_timesteps :  64\n",
      "n_features :  12\n",
      "n_outputs :  (13725,)\n"
     ]
    }
   ],
   "source": [
    "n_timesteps = X_train.shape[1]\n",
    "n_features = X_train.shape[2]\n",
    "n_outputs = y_train.shape\n",
    "\n",
    "print('n_timesteps : ', n_timesteps)\n",
    "print('n_features : ', n_features)\n",
    "print('n_outputs : ', n_outputs)\n"
   ]
  },
  {
   "cell_type": "code",
   "execution_count": 132,
   "metadata": {
    "colab": {
     "base_uri": "https://localhost:8080/"
    },
    "id": "EdZKXUc0V-Tt",
    "outputId": "bf3d1bd1-b564-47f4-dc3b-576a3dd4e5ee"
   },
   "outputs": [
    {
     "data": {
      "text/plain": [
       "(64, 12)"
      ]
     },
     "execution_count": 132,
     "metadata": {},
     "output_type": "execute_result"
    }
   ],
   "source": [
    "input_sample_size = (n_timesteps,n_features)\n",
    "input_sample_size"
   ]
  },
  {
   "cell_type": "code",
   "execution_count": 133,
   "metadata": {
    "id": "560-Zw-g6Opb"
   },
   "outputs": [],
   "source": [
    "def transformer_encoder(inputs, head_size, num_heads, ff_dim, dropout=0):\n",
    "    # Normalization and Attention\n",
    "    x = layers.LayerNormalization(epsilon=1e-6)(inputs)\n",
    "    x = layers.MultiHeadAttention(\n",
    "        key_dim=head_size, num_heads=num_heads, dropout=dropout\n",
    "    )(x, x)\n",
    "    x = layers.Dropout(dropout)(x)\n",
    "    res = x + inputs\n",
    "\n",
    "    # Feed Forward Part\n",
    "    x = layers.LayerNormalization(epsilon=1e-6)(res)\n",
    "    x = layers.Conv1D(filters=ff_dim, kernel_size=1, activation=\"relu\")(x)\n",
    "    x = layers.Dropout(dropout)(x)\n",
    "    x = layers.Conv1D(filters=inputs.shape[-1], kernel_size=1)(x)\n",
    "    return x + res\n"
   ]
  },
  {
   "cell_type": "code",
   "execution_count": 134,
   "metadata": {
    "id": "8FZJNDXtOaYY"
   },
   "outputs": [],
   "source": [
    "def create_convolution_layers1(x):\n",
    "  \n",
    "  #inputs = keras.Input(shape=input_shape)\n",
    "  #x = inputs\n",
    "  conv = keras.layers.Conv1D(filters=8, kernel_size=2, padding=\"same\")(x)\n",
    "\n",
    "  conv = keras.layers.BatchNormalization()(conv)\n",
    "  #conv = Dropout(0.2)(conv)\n",
    "  conv= keras.layers.ReLU()(conv)\n",
    "\n",
    "  conv = keras.layers.Conv1D(filters=32, kernel_size=2, padding=\"same\")(conv)\n",
    "  conv= keras.layers.BatchNormalization()(conv)\n",
    "  #conv = Dropout(0.2)(conv )\n",
    "  conv = keras.layers.ReLU()(conv)\n",
    "  \n",
    "  conv = keras.layers.Conv1D(filters=64, kernel_size=2, padding=\"same\")(conv)\n",
    "  #conv = keras.layers.BatchNormalization()(conv)\n",
    "  #conv= Dropout(0.2)(conv )\n",
    "  conv = keras.layers.ReLU()(conv)\n",
    "  \n",
    "  conv = keras.layers.Conv1D(filters=64, kernel_size=5, padding=\"same\")(conv)\n",
    "  conv = keras.layers.BatchNormalization()(conv)\n",
    "  #conv = Dropout(0.2)(conv )\n",
    "  conv = keras.layers.ReLU()(conv)\n",
    "\n",
    "  return conv"
   ]
  },
  {
   "cell_type": "code",
   "execution_count": 135,
   "metadata": {
    "id": "3_nHrAMwe6FH"
   },
   "outputs": [],
   "source": [
    "def create_convolution_layers2(x):\n",
    "  \n",
    "  #inputs = keras.Input(shape=input_shape)\n",
    "  #x = inputs\n",
    "  conv = keras.layers.Conv1D(filters=8, kernel_size=2, padding=\"same\")(x)\n",
    "\n",
    "  conv = keras.layers.BatchNormalization()(conv)\n",
    "  #conv = Dropout(0.2)(conv)\n",
    "  conv= keras.layers.ReLU()(conv)\n",
    "\n",
    "  conv = keras.layers.Conv1D(filters=32, kernel_size=2, padding=\"same\")(conv)\n",
    "  conv= keras.layers.BatchNormalization()(conv)\n",
    "  #conv = Dropout(0.2)(conv )\n",
    "  conv = keras.layers.ReLU()(conv)\n",
    "  \n",
    "  conv = keras.layers.Conv1D(filters=64, kernel_size=2, padding=\"same\")(conv)\n",
    "  #conv = keras.layers.BatchNormalization()(conv)\n",
    "  #conv= Dropout(0.2)(conv )\n",
    "  conv = keras.layers.ReLU()(conv)\n",
    "  \n",
    "  conv = keras.layers.Conv1D(filters=64, kernel_size=5, padding=\"same\")(conv)\n",
    "  conv = keras.layers.BatchNormalization()(conv)\n",
    "  #conv = Dropout(0.2)(conv )\n",
    "  conv = keras.layers.ReLU()(conv)\n",
    "\n",
    "  return conv"
   ]
  },
  {
   "cell_type": "code",
   "execution_count": 136,
   "metadata": {},
   "outputs": [],
   "source": [
    "def create_convolution_layers3(x):\n",
    "  \n",
    "  #inputs = keras.Input(shape=input_shape)\n",
    "  #x = inputs\n",
    "  conv = keras.layers.Conv1D(filters=8, kernel_size=2, padding=\"same\")(x)\n",
    "\n",
    "  conv = keras.layers.BatchNormalization()(conv)\n",
    "  #conv = Dropout(0.2)(conv)\n",
    "  conv= keras.layers.ReLU()(conv)\n",
    "\n",
    "  conv = keras.layers.Conv1D(filters=32, kernel_size=2, padding=\"same\")(conv)\n",
    "  conv= keras.layers.BatchNormalization()(conv)\n",
    "  #conv = Dropout(0.2)(conv )\n",
    "  conv = keras.layers.ReLU()(conv)\n",
    "  \n",
    "  conv = keras.layers.Conv1D(filters=64, kernel_size=2, padding=\"same\")(conv)\n",
    "  #conv = keras.layers.BatchNormalization()(conv)\n",
    "  #conv= Dropout(0.2)(conv )\n",
    "  conv = keras.layers.ReLU()(conv)\n",
    "  \n",
    "  conv = keras.layers.Conv1D(filters=64, kernel_size=5, padding=\"same\")(conv)\n",
    "  conv = keras.layers.BatchNormalization()(conv)\n",
    "  #conv = Dropout(0.2)(conv )\n",
    "  conv = keras.layers.ReLU()(conv)\n",
    "\n",
    "  return conv"
   ]
  },
  {
   "cell_type": "code",
   "execution_count": 137,
   "metadata": {},
   "outputs": [],
   "source": [
    "def build_model(\n",
    "    input_shape,\n",
    "    head_size,\n",
    "    num_heads,\n",
    "    ff_dim,\n",
    "    num_transformer_blocks,\n",
    "    mlp_units,\n",
    "    dropout=0.25,\n",
    "    mlp_dropout=0.4,\n",
    "):\n",
    "    inputs = keras.Input(shape=input_shape)\n",
    "    x = inputs\n",
    "   \n",
    "    current1 = create_convolution_layers1(x)\n",
    "    current2 = create_convolution_layers2(x)\n",
    "    current3 = create_convolution_layers3(x)\n",
    "\n",
    "    x= Concatenate()([current1, current2,current3])\n",
    "    \n",
    "    x=create_convolution_layers2(x)\n",
    "    \n",
    "    #x = layers.Bidirectional(layers.LSTM(100, return_sequences=True,input_shape=(200, 64)))(x)\n",
    "    \n",
    "\n",
    "    for _ in range(num_transformer_blocks):\n",
    "        x = transformer_encoder(x, head_size, num_heads, ff_dim, dropout)\n",
    "        \n",
    "    #x= Concatenate()([current1, current2,current3,x2])\n",
    "    \n",
    "    #x=keras.layers.LSTM(50,return_sequences=True,input_shape=(200,64))(x)\n",
    "    \n",
    "    #x = layers.Bidirectional(layers.LSTM(100, return_sequences=True,input_shape=(200, 64)))(x)\n",
    "    \n",
    "    #for _ in range(num_transformer_blocks):\n",
    "        #x = transformer_encoder(x, head_size, num_heads, ff_dim, dropout)\n",
    "        \n",
    "    #x = layers.Bidirectional(layers.LSTM(128, return_sequences=True,input_shape=(200, 64)))(x)\n",
    "    #x = layers.Bidirectional(layers.LSTM(128, return_sequences=True,input_shape=(200, 64)))(x)\n",
    "    x = layers.Bidirectional(layers.LSTM(64, return_sequences=True,input_shape=(200, 64)))(x)\n",
    "    #x = layers.Bidirectional(layers.LSTM(64, return_sequences=True,input_shape=(200, 64)))(x)\n",
    "    \n",
    "\n",
    "    x = layers.GlobalAveragePooling1D(data_format=\"channels_first\")(x)\n",
    "    for dim in mlp_units:\n",
    "        x = layers.Dense(dim, activation=\"relu\")(x)\n",
    "        x = layers.Dropout(mlp_dropout)(x)\n",
    "    \n",
    "    outputs = layers.Dense(12, activation=\"softmax\")(x)\n",
    "    return keras.Model(inputs, outputs)"
   ]
  },
  {
   "cell_type": "code",
   "execution_count": 138,
   "metadata": {},
   "outputs": [],
   "source": [
    "from sklearn.model_selection import StratifiedKFold\n",
    "from sklearn.model_selection import KFold"
   ]
  },
  {
   "cell_type": "code",
   "execution_count": 139,
   "metadata": {
    "id": "7G58YTV0Ojnw"
   },
   "outputs": [],
   "source": [
    "import tensorflow as tf"
   ]
  },
  {
   "cell_type": "code",
   "execution_count": 147,
   "metadata": {},
   "outputs": [
    {
     "name": "stdout",
     "output_type": "stream",
     "text": [
      "Epoch 1/200\n",
      "483/483 [==============================] - 19s 25ms/step - loss: 2.4691 - accuracy: 0.1569 - val_loss: 2.4129 - val_accuracy: 0.2309\n",
      "Epoch 2/200\n",
      "483/483 [==============================] - 11s 22ms/step - loss: 2.2715 - accuracy: 0.2282 - val_loss: 2.0742 - val_accuracy: 0.3633\n",
      "Epoch 3/200\n",
      "483/483 [==============================] - 11s 23ms/step - loss: 2.0019 - accuracy: 0.2792 - val_loss: 1.8245 - val_accuracy: 0.3499\n",
      "Epoch 4/200\n",
      "483/483 [==============================] - 11s 23ms/step - loss: 1.8081 - accuracy: 0.3659 - val_loss: 1.6217 - val_accuracy: 0.5050\n",
      "Epoch 5/200\n",
      "483/483 [==============================] - 11s 23ms/step - loss: 1.6348 - accuracy: 0.4494 - val_loss: 1.4213 - val_accuracy: 0.6297\n",
      "Epoch 6/200\n",
      "483/483 [==============================] - 11s 23ms/step - loss: 1.4660 - accuracy: 0.5239 - val_loss: 1.2492 - val_accuracy: 0.6752\n",
      "Epoch 7/200\n",
      "483/483 [==============================] - 11s 23ms/step - loss: 1.3144 - accuracy: 0.5878 - val_loss: 1.1038 - val_accuracy: 0.7236\n",
      "Epoch 8/200\n",
      "483/483 [==============================] - 11s 23ms/step - loss: 1.1831 - accuracy: 0.6412 - val_loss: 0.9701 - val_accuracy: 0.7831\n",
      "Epoch 9/200\n",
      "483/483 [==============================] - 11s 23ms/step - loss: 1.0625 - accuracy: 0.6880 - val_loss: 0.8593 - val_accuracy: 0.8012\n",
      "Epoch 10/200\n",
      "483/483 [==============================] - 11s 23ms/step - loss: 0.9638 - accuracy: 0.7241 - val_loss: 0.7620 - val_accuracy: 0.8222\n",
      "Epoch 11/200\n",
      "483/483 [==============================] - 11s 23ms/step - loss: 0.8761 - accuracy: 0.7488 - val_loss: 0.6907 - val_accuracy: 0.8309\n",
      "Epoch 12/200\n",
      "483/483 [==============================] - 11s 23ms/step - loss: 0.7964 - accuracy: 0.7756 - val_loss: 0.6183 - val_accuracy: 0.8536\n",
      "Epoch 13/200\n",
      "483/483 [==============================] - 11s 22ms/step - loss: 0.7354 - accuracy: 0.7937 - val_loss: 0.5646 - val_accuracy: 0.8636\n",
      "Epoch 14/200\n",
      "483/483 [==============================] - 11s 23ms/step - loss: 0.6808 - accuracy: 0.8085 - val_loss: 0.5206 - val_accuracy: 0.8706\n",
      "Epoch 15/200\n",
      "483/483 [==============================] - 11s 23ms/step - loss: 0.6292 - accuracy: 0.8228 - val_loss: 0.4765 - val_accuracy: 0.8816\n",
      "Epoch 16/200\n",
      "483/483 [==============================] - 11s 23ms/step - loss: 0.5850 - accuracy: 0.8422 - val_loss: 0.4374 - val_accuracy: 0.8898\n",
      "Epoch 17/200\n",
      "483/483 [==============================] - 11s 23ms/step - loss: 0.5518 - accuracy: 0.8485 - val_loss: 0.4250 - val_accuracy: 0.8851\n",
      "Epoch 18/200\n",
      "483/483 [==============================] - 11s 22ms/step - loss: 0.5152 - accuracy: 0.8571 - val_loss: 0.3835 - val_accuracy: 0.8997\n",
      "Epoch 19/200\n",
      "483/483 [==============================] - 11s 23ms/step - loss: 0.4925 - accuracy: 0.8619 - val_loss: 0.3611 - val_accuracy: 0.9026\n",
      "Epoch 20/200\n",
      "483/483 [==============================] - 11s 22ms/step - loss: 0.4521 - accuracy: 0.8742 - val_loss: 0.3381 - val_accuracy: 0.9090\n",
      "Epoch 21/200\n",
      "483/483 [==============================] - 11s 23ms/step - loss: 0.4368 - accuracy: 0.8757 - val_loss: 0.3176 - val_accuracy: 0.9137\n",
      "Epoch 22/200\n",
      "483/483 [==============================] - 11s 23ms/step - loss: 0.4113 - accuracy: 0.8834 - val_loss: 0.3088 - val_accuracy: 0.9073\n",
      "Epoch 23/200\n",
      "483/483 [==============================] - 11s 23ms/step - loss: 0.3936 - accuracy: 0.8868 - val_loss: 0.2886 - val_accuracy: 0.9160\n",
      "Epoch 24/200\n",
      "483/483 [==============================] - 11s 22ms/step - loss: 0.3698 - accuracy: 0.8967 - val_loss: 0.2726 - val_accuracy: 0.9172\n",
      "Epoch 25/200\n",
      "483/483 [==============================] - 11s 23ms/step - loss: 0.3585 - accuracy: 0.9006 - val_loss: 0.2631 - val_accuracy: 0.9207\n",
      "Epoch 26/200\n",
      "483/483 [==============================] - 11s 22ms/step - loss: 0.3417 - accuracy: 0.9026 - val_loss: 0.2559 - val_accuracy: 0.9213\n",
      "Epoch 27/200\n",
      "483/483 [==============================] - 11s 22ms/step - loss: 0.3266 - accuracy: 0.9074 - val_loss: 0.2410 - val_accuracy: 0.9230\n",
      "Epoch 28/200\n",
      "483/483 [==============================] - 11s 23ms/step - loss: 0.3142 - accuracy: 0.9118 - val_loss: 0.2287 - val_accuracy: 0.9318\n",
      "Epoch 29/200\n",
      "483/483 [==============================] - 11s 23ms/step - loss: 0.3037 - accuracy: 0.9128 - val_loss: 0.2194 - val_accuracy: 0.9283\n",
      "Epoch 30/200\n",
      "483/483 [==============================] - 11s 22ms/step - loss: 0.2902 - accuracy: 0.9153 - val_loss: 0.2108 - val_accuracy: 0.9300\n",
      "Epoch 31/200\n",
      "483/483 [==============================] - 11s 22ms/step - loss: 0.2811 - accuracy: 0.9186 - val_loss: 0.2045 - val_accuracy: 0.9318\n",
      "Epoch 32/200\n",
      "483/483 [==============================] - 11s 23ms/step - loss: 0.2702 - accuracy: 0.9225 - val_loss: 0.1950 - val_accuracy: 0.9335\n",
      "Epoch 33/200\n",
      "483/483 [==============================] - 11s 23ms/step - loss: 0.2581 - accuracy: 0.9245 - val_loss: 0.1921 - val_accuracy: 0.9364\n",
      "Epoch 34/200\n",
      "483/483 [==============================] - 11s 23ms/step - loss: 0.2557 - accuracy: 0.9244 - val_loss: 0.1813 - val_accuracy: 0.9423\n",
      "Epoch 35/200\n",
      "483/483 [==============================] - 11s 23ms/step - loss: 0.2394 - accuracy: 0.9304 - val_loss: 0.1796 - val_accuracy: 0.9382\n",
      "Epoch 36/200\n",
      "483/483 [==============================] - 11s 22ms/step - loss: 0.2377 - accuracy: 0.9316 - val_loss: 0.1796 - val_accuracy: 0.9364\n",
      "Epoch 37/200\n",
      "483/483 [==============================] - 11s 22ms/step - loss: 0.2271 - accuracy: 0.9329 - val_loss: 0.1696 - val_accuracy: 0.9446\n",
      "Epoch 38/200\n",
      "483/483 [==============================] - 11s 23ms/step - loss: 0.2196 - accuracy: 0.9366 - val_loss: 0.1618 - val_accuracy: 0.9440\n",
      "Epoch 39/200\n",
      "483/483 [==============================] - 11s 23ms/step - loss: 0.2122 - accuracy: 0.9394 - val_loss: 0.1544 - val_accuracy: 0.9446\n",
      "Epoch 40/200\n",
      "483/483 [==============================] - 11s 22ms/step - loss: 0.2042 - accuracy: 0.9404 - val_loss: 0.1540 - val_accuracy: 0.9458\n",
      "Epoch 41/200\n",
      "483/483 [==============================] - 11s 23ms/step - loss: 0.2011 - accuracy: 0.9428 - val_loss: 0.1477 - val_accuracy: 0.9481\n",
      "Epoch 42/200\n",
      "483/483 [==============================] - 11s 23ms/step - loss: 0.1953 - accuracy: 0.9438 - val_loss: 0.1437 - val_accuracy: 0.9493\n",
      "Epoch 43/200\n",
      "483/483 [==============================] - 11s 22ms/step - loss: 0.1888 - accuracy: 0.9442 - val_loss: 0.1422 - val_accuracy: 0.9487\n",
      "Epoch 44/200\n",
      "483/483 [==============================] - 11s 23ms/step - loss: 0.1766 - accuracy: 0.9496 - val_loss: 0.1319 - val_accuracy: 0.9598\n",
      "Epoch 45/200\n",
      "483/483 [==============================] - 11s 23ms/step - loss: 0.1738 - accuracy: 0.9509 - val_loss: 0.1297 - val_accuracy: 0.9598\n",
      "Epoch 46/200\n",
      "483/483 [==============================] - 11s 23ms/step - loss: 0.1642 - accuracy: 0.9523 - val_loss: 0.1247 - val_accuracy: 0.9580\n",
      "Epoch 47/200\n",
      "483/483 [==============================] - 11s 23ms/step - loss: 0.1666 - accuracy: 0.9519 - val_loss: 0.1221 - val_accuracy: 0.9627\n",
      "Epoch 48/200\n",
      "483/483 [==============================] - 11s 23ms/step - loss: 0.1572 - accuracy: 0.9556 - val_loss: 0.1150 - val_accuracy: 0.9656\n",
      "Epoch 49/200\n",
      "483/483 [==============================] - 11s 23ms/step - loss: 0.1533 - accuracy: 0.9567 - val_loss: 0.1118 - val_accuracy: 0.9650\n",
      "Epoch 50/200\n",
      "483/483 [==============================] - 11s 22ms/step - loss: 0.1460 - accuracy: 0.9592 - val_loss: 0.1159 - val_accuracy: 0.9603\n",
      "Epoch 51/200\n",
      "483/483 [==============================] - 11s 23ms/step - loss: 0.1434 - accuracy: 0.9613 - val_loss: 0.1069 - val_accuracy: 0.9685\n",
      "Epoch 52/200\n",
      "483/483 [==============================] - 11s 22ms/step - loss: 0.1370 - accuracy: 0.9615 - val_loss: 0.1024 - val_accuracy: 0.9726\n",
      "Epoch 53/200\n",
      "483/483 [==============================] - 11s 22ms/step - loss: 0.1261 - accuracy: 0.9672 - val_loss: 0.1072 - val_accuracy: 0.9697\n",
      "Epoch 54/200\n",
      "483/483 [==============================] - 11s 23ms/step - loss: 0.1277 - accuracy: 0.9653 - val_loss: 0.0940 - val_accuracy: 0.9732\n",
      "Epoch 55/200\n",
      "483/483 [==============================] - 11s 22ms/step - loss: 0.1250 - accuracy: 0.9654 - val_loss: 0.0909 - val_accuracy: 0.9738\n",
      "Epoch 56/200\n",
      "483/483 [==============================] - 11s 22ms/step - loss: 0.1241 - accuracy: 0.9666 - val_loss: 0.0923 - val_accuracy: 0.9749\n",
      "Epoch 57/200\n",
      "483/483 [==============================] - 11s 23ms/step - loss: 0.1129 - accuracy: 0.9694 - val_loss: 0.0848 - val_accuracy: 0.9755\n",
      "Epoch 58/200\n",
      "483/483 [==============================] - 11s 22ms/step - loss: 0.1107 - accuracy: 0.9702 - val_loss: 0.0853 - val_accuracy: 0.9755\n",
      "Epoch 59/200\n",
      "483/483 [==============================] - 11s 23ms/step - loss: 0.1043 - accuracy: 0.9732 - val_loss: 0.0829 - val_accuracy: 0.9767\n",
      "Epoch 60/200\n",
      "483/483 [==============================] - 11s 23ms/step - loss: 0.1026 - accuracy: 0.9732 - val_loss: 0.0874 - val_accuracy: 0.9720\n",
      "Epoch 61/200\n",
      "483/483 [==============================] - 11s 23ms/step - loss: 0.1006 - accuracy: 0.9740 - val_loss: 0.0802 - val_accuracy: 0.9784\n",
      "Epoch 62/200\n",
      "483/483 [==============================] - 11s 23ms/step - loss: 0.0968 - accuracy: 0.9758 - val_loss: 0.0797 - val_accuracy: 0.9749\n",
      "Epoch 63/200\n",
      "483/483 [==============================] - 11s 23ms/step - loss: 0.0920 - accuracy: 0.9755 - val_loss: 0.0742 - val_accuracy: 0.9784\n",
      "Epoch 64/200\n",
      "483/483 [==============================] - 11s 23ms/step - loss: 0.0878 - accuracy: 0.9756 - val_loss: 0.0724 - val_accuracy: 0.9749\n",
      "Epoch 65/200\n",
      "483/483 [==============================] - 11s 23ms/step - loss: 0.0866 - accuracy: 0.9782 - val_loss: 0.0743 - val_accuracy: 0.9784\n",
      "Epoch 66/200\n",
      "483/483 [==============================] - 11s 23ms/step - loss: 0.0857 - accuracy: 0.9776 - val_loss: 0.0722 - val_accuracy: 0.9743\n",
      "Epoch 67/200\n",
      "483/483 [==============================] - 11s 23ms/step - loss: 0.0760 - accuracy: 0.9817 - val_loss: 0.0679 - val_accuracy: 0.9749\n",
      "Epoch 68/200\n",
      "483/483 [==============================] - 11s 22ms/step - loss: 0.0772 - accuracy: 0.9800 - val_loss: 0.0696 - val_accuracy: 0.9767\n",
      "Epoch 69/200\n",
      "483/483 [==============================] - 11s 23ms/step - loss: 0.0763 - accuracy: 0.9814 - val_loss: 0.0659 - val_accuracy: 0.9796\n",
      "Epoch 70/200\n",
      "483/483 [==============================] - 11s 23ms/step - loss: 0.0735 - accuracy: 0.9813 - val_loss: 0.0663 - val_accuracy: 0.9796\n",
      "Epoch 71/200\n",
      "483/483 [==============================] - 11s 23ms/step - loss: 0.0682 - accuracy: 0.9831 - val_loss: 0.0662 - val_accuracy: 0.9773\n",
      "Epoch 72/200\n",
      "483/483 [==============================] - 11s 22ms/step - loss: 0.0681 - accuracy: 0.9830 - val_loss: 0.0607 - val_accuracy: 0.9808\n",
      "Epoch 73/200\n",
      "483/483 [==============================] - 11s 23ms/step - loss: 0.0621 - accuracy: 0.9845 - val_loss: 0.0555 - val_accuracy: 0.9831\n",
      "Epoch 74/200\n",
      "483/483 [==============================] - 11s 22ms/step - loss: 0.0615 - accuracy: 0.9860 - val_loss: 0.0548 - val_accuracy: 0.9813\n",
      "Epoch 75/200\n",
      "483/483 [==============================] - 11s 22ms/step - loss: 0.0592 - accuracy: 0.9850 - val_loss: 0.0533 - val_accuracy: 0.9802\n",
      "Epoch 76/200\n",
      "483/483 [==============================] - 11s 22ms/step - loss: 0.0570 - accuracy: 0.9866 - val_loss: 0.0514 - val_accuracy: 0.9843\n",
      "Epoch 77/200\n",
      "483/483 [==============================] - 11s 23ms/step - loss: 0.0591 - accuracy: 0.9851 - val_loss: 0.0557 - val_accuracy: 0.9831\n",
      "Epoch 78/200\n",
      "483/483 [==============================] - 11s 23ms/step - loss: 0.0560 - accuracy: 0.9859 - val_loss: 0.0519 - val_accuracy: 0.9848\n",
      "Epoch 79/200\n",
      "483/483 [==============================] - 11s 23ms/step - loss: 0.0526 - accuracy: 0.9868 - val_loss: 0.0565 - val_accuracy: 0.9813\n",
      "Epoch 80/200\n",
      "483/483 [==============================] - 11s 23ms/step - loss: 0.0524 - accuracy: 0.9877 - val_loss: 0.0541 - val_accuracy: 0.9819\n",
      "Epoch 81/200\n",
      "483/483 [==============================] - 11s 22ms/step - loss: 0.0526 - accuracy: 0.9866 - val_loss: 0.0544 - val_accuracy: 0.9843\n",
      "Epoch 82/200\n",
      "483/483 [==============================] - 11s 22ms/step - loss: 0.0511 - accuracy: 0.9880 - val_loss: 0.0480 - val_accuracy: 0.9866\n",
      "Epoch 83/200\n",
      "483/483 [==============================] - 12s 24ms/step - loss: 0.0505 - accuracy: 0.9881 - val_loss: 0.0561 - val_accuracy: 0.9825\n",
      "Epoch 84/200\n",
      "483/483 [==============================] - 11s 23ms/step - loss: 0.0492 - accuracy: 0.9881 - val_loss: 0.0498 - val_accuracy: 0.9843\n",
      "Epoch 85/200\n",
      "483/483 [==============================] - 11s 23ms/step - loss: 0.0459 - accuracy: 0.9899 - val_loss: 0.0460 - val_accuracy: 0.9837\n",
      "Epoch 86/200\n",
      "483/483 [==============================] - 11s 23ms/step - loss: 0.0489 - accuracy: 0.9884 - val_loss: 0.0464 - val_accuracy: 0.9848\n",
      "Epoch 87/200\n",
      "483/483 [==============================] - 11s 22ms/step - loss: 0.0422 - accuracy: 0.9906 - val_loss: 0.0457 - val_accuracy: 0.9848\n",
      "Epoch 88/200\n",
      "483/483 [==============================] - 11s 22ms/step - loss: 0.0403 - accuracy: 0.9914 - val_loss: 0.0423 - val_accuracy: 0.9878\n",
      "Epoch 89/200\n",
      "483/483 [==============================] - 11s 23ms/step - loss: 0.0403 - accuracy: 0.9909 - val_loss: 0.0450 - val_accuracy: 0.9866\n",
      "Epoch 90/200\n",
      "483/483 [==============================] - 11s 23ms/step - loss: 0.0396 - accuracy: 0.9912 - val_loss: 0.0457 - val_accuracy: 0.9883\n",
      "Epoch 91/200\n",
      "483/483 [==============================] - 11s 23ms/step - loss: 0.0370 - accuracy: 0.9916 - val_loss: 0.0450 - val_accuracy: 0.9883\n",
      "Epoch 92/200\n",
      "483/483 [==============================] - 11s 23ms/step - loss: 0.0351 - accuracy: 0.9922 - val_loss: 0.0425 - val_accuracy: 0.9883\n",
      "Epoch 93/200\n",
      "483/483 [==============================] - 11s 23ms/step - loss: 0.0349 - accuracy: 0.9925 - val_loss: 0.0430 - val_accuracy: 0.9872\n",
      "Epoch 94/200\n",
      "483/483 [==============================] - 11s 23ms/step - loss: 0.0348 - accuracy: 0.9920 - val_loss: 0.0411 - val_accuracy: 0.9878\n",
      "Epoch 95/200\n",
      "483/483 [==============================] - 11s 22ms/step - loss: 0.0326 - accuracy: 0.9929 - val_loss: 0.0421 - val_accuracy: 0.9878\n",
      "Epoch 96/200\n",
      "483/483 [==============================] - 11s 23ms/step - loss: 0.0350 - accuracy: 0.9919 - val_loss: 0.0470 - val_accuracy: 0.9878\n",
      "Epoch 97/200\n",
      "483/483 [==============================] - 11s 23ms/step - loss: 0.0335 - accuracy: 0.9927 - val_loss: 0.0447 - val_accuracy: 0.9878\n",
      "Epoch 98/200\n",
      "483/483 [==============================] - 11s 23ms/step - loss: 0.0327 - accuracy: 0.9933 - val_loss: 0.0377 - val_accuracy: 0.9895\n",
      "Epoch 99/200\n",
      "483/483 [==============================] - 11s 23ms/step - loss: 0.0323 - accuracy: 0.9923 - val_loss: 0.0411 - val_accuracy: 0.9883\n",
      "Epoch 100/200\n",
      "483/483 [==============================] - 11s 23ms/step - loss: 0.0307 - accuracy: 0.9927 - val_loss: 0.0401 - val_accuracy: 0.9872\n",
      "Epoch 101/200\n",
      "483/483 [==============================] - 11s 23ms/step - loss: 0.0276 - accuracy: 0.9943 - val_loss: 0.0371 - val_accuracy: 0.9895\n",
      "Epoch 102/200\n",
      "483/483 [==============================] - 11s 23ms/step - loss: 0.0302 - accuracy: 0.9920 - val_loss: 0.0441 - val_accuracy: 0.9854\n",
      "Epoch 103/200\n",
      "483/483 [==============================] - 11s 22ms/step - loss: 0.0310 - accuracy: 0.9917 - val_loss: 0.0349 - val_accuracy: 0.9883\n",
      "Epoch 104/200\n",
      "483/483 [==============================] - 11s 22ms/step - loss: 0.0280 - accuracy: 0.9937 - val_loss: 0.0348 - val_accuracy: 0.9901\n",
      "Epoch 105/200\n",
      "483/483 [==============================] - 11s 23ms/step - loss: 0.0254 - accuracy: 0.9951 - val_loss: 0.0377 - val_accuracy: 0.9883\n",
      "Epoch 106/200\n",
      "483/483 [==============================] - 11s 23ms/step - loss: 0.0259 - accuracy: 0.9939 - val_loss: 0.0370 - val_accuracy: 0.9889\n",
      "Epoch 107/200\n",
      "483/483 [==============================] - 11s 23ms/step - loss: 0.0262 - accuracy: 0.9944 - val_loss: 0.0344 - val_accuracy: 0.9907\n",
      "Epoch 108/200\n",
      "483/483 [==============================] - 11s 23ms/step - loss: 0.0251 - accuracy: 0.9949 - val_loss: 0.0319 - val_accuracy: 0.9901\n",
      "Epoch 109/200\n",
      "483/483 [==============================] - 11s 23ms/step - loss: 0.0252 - accuracy: 0.9944 - val_loss: 0.0313 - val_accuracy: 0.9901\n",
      "Epoch 110/200\n",
      "483/483 [==============================] - 11s 22ms/step - loss: 0.0232 - accuracy: 0.9950 - val_loss: 0.0338 - val_accuracy: 0.9907\n",
      "Epoch 111/200\n",
      "483/483 [==============================] - 11s 23ms/step - loss: 0.0260 - accuracy: 0.9940 - val_loss: 0.0453 - val_accuracy: 0.9860\n",
      "Epoch 112/200\n",
      "483/483 [==============================] - 11s 23ms/step - loss: 0.0224 - accuracy: 0.9954 - val_loss: 0.0333 - val_accuracy: 0.9907\n",
      "Epoch 113/200\n",
      "483/483 [==============================] - 11s 22ms/step - loss: 0.0209 - accuracy: 0.9955 - val_loss: 0.0365 - val_accuracy: 0.9883\n",
      "Epoch 114/200\n",
      "483/483 [==============================] - 11s 22ms/step - loss: 0.0214 - accuracy: 0.9959 - val_loss: 0.0324 - val_accuracy: 0.9895\n",
      "Epoch 115/200\n",
      "483/483 [==============================] - 11s 23ms/step - loss: 0.0218 - accuracy: 0.9951 - val_loss: 0.0362 - val_accuracy: 0.9895\n",
      "Epoch 116/200\n",
      "483/483 [==============================] - 11s 23ms/step - loss: 0.0197 - accuracy: 0.9959 - val_loss: 0.0483 - val_accuracy: 0.9848\n",
      "Epoch 117/200\n",
      "483/483 [==============================] - 11s 24ms/step - loss: 0.0198 - accuracy: 0.9953 - val_loss: 0.0420 - val_accuracy: 0.9878\n",
      "Epoch 118/200\n",
      "483/483 [==============================] - 12s 24ms/step - loss: 0.0215 - accuracy: 0.9949 - val_loss: 0.0357 - val_accuracy: 0.9895\n",
      "Epoch 119/200\n",
      "483/483 [==============================] - 12s 24ms/step - loss: 0.0200 - accuracy: 0.9959 - val_loss: 0.0326 - val_accuracy: 0.9913\n",
      "Epoch 120/200\n",
      "483/483 [==============================] - 11s 24ms/step - loss: 0.0182 - accuracy: 0.9966 - val_loss: 0.0330 - val_accuracy: 0.9883\n",
      "Epoch 121/200\n",
      "483/483 [==============================] - 12s 24ms/step - loss: 0.0182 - accuracy: 0.9961 - val_loss: 0.0296 - val_accuracy: 0.9901\n",
      "Epoch 122/200\n",
      "483/483 [==============================] - 11s 22ms/step - loss: 0.0179 - accuracy: 0.9962 - val_loss: 0.0290 - val_accuracy: 0.9913\n",
      "Epoch 123/200\n",
      "483/483 [==============================] - 11s 22ms/step - loss: 0.0192 - accuracy: 0.9960 - val_loss: 0.0370 - val_accuracy: 0.9889\n",
      "Epoch 124/200\n",
      "483/483 [==============================] - 11s 23ms/step - loss: 0.0198 - accuracy: 0.9957 - val_loss: 0.0343 - val_accuracy: 0.9907\n",
      "Epoch 125/200\n",
      "483/483 [==============================] - 11s 23ms/step - loss: 0.0163 - accuracy: 0.9974 - val_loss: 0.0296 - val_accuracy: 0.9924\n",
      "Epoch 126/200\n",
      "483/483 [==============================] - 11s 23ms/step - loss: 0.0175 - accuracy: 0.9963 - val_loss: 0.0421 - val_accuracy: 0.9889\n",
      "Epoch 127/200\n",
      "483/483 [==============================] - 11s 23ms/step - loss: 0.0160 - accuracy: 0.9966 - val_loss: 0.0357 - val_accuracy: 0.9913\n",
      "Epoch 128/200\n",
      "483/483 [==============================] - 11s 23ms/step - loss: 0.0174 - accuracy: 0.9962 - val_loss: 0.0341 - val_accuracy: 0.9895\n",
      "Epoch 129/200\n",
      "483/483 [==============================] - 11s 23ms/step - loss: 0.0143 - accuracy: 0.9971 - val_loss: 0.0330 - val_accuracy: 0.9907\n",
      "Epoch 130/200\n",
      "483/483 [==============================] - 11s 23ms/step - loss: 0.0171 - accuracy: 0.9957 - val_loss: 0.0312 - val_accuracy: 0.9918\n",
      "Epoch 131/200\n",
      "483/483 [==============================] - 11s 23ms/step - loss: 0.0156 - accuracy: 0.9968 - val_loss: 0.0373 - val_accuracy: 0.9889\n",
      "Epoch 132/200\n",
      "483/483 [==============================] - 11s 23ms/step - loss: 0.0152 - accuracy: 0.9970 - val_loss: 0.0329 - val_accuracy: 0.9918\n",
      "Epoch 133/200\n",
      "483/483 [==============================] - 11s 22ms/step - loss: 0.0155 - accuracy: 0.9968 - val_loss: 0.0302 - val_accuracy: 0.9895\n",
      "Epoch 134/200\n",
      "483/483 [==============================] - 11s 23ms/step - loss: 0.0158 - accuracy: 0.9967 - val_loss: 0.0328 - val_accuracy: 0.9895\n",
      "Epoch 135/200\n",
      "483/483 [==============================] - 11s 23ms/step - loss: 0.0155 - accuracy: 0.9962 - val_loss: 0.0336 - val_accuracy: 0.9895\n",
      "Epoch 136/200\n",
      "483/483 [==============================] - 11s 23ms/step - loss: 0.0140 - accuracy: 0.9975 - val_loss: 0.0328 - val_accuracy: 0.9901\n",
      "Epoch 137/200\n",
      "483/483 [==============================] - 11s 23ms/step - loss: 0.0137 - accuracy: 0.9971 - val_loss: 0.0359 - val_accuracy: 0.9895\n",
      "Epoch 138/200\n",
      "483/483 [==============================] - 11s 23ms/step - loss: 0.0138 - accuracy: 0.9970 - val_loss: 0.0357 - val_accuracy: 0.9895\n",
      "Epoch 139/200\n",
      "483/483 [==============================] - 11s 23ms/step - loss: 0.0149 - accuracy: 0.9971 - val_loss: 0.0349 - val_accuracy: 0.9907\n",
      "Epoch 140/200\n",
      "483/483 [==============================] - 11s 23ms/step - loss: 0.0150 - accuracy: 0.9963 - val_loss: 0.0312 - val_accuracy: 0.9930\n",
      "Epoch 141/200\n",
      "483/483 [==============================] - 11s 22ms/step - loss: 0.0124 - accuracy: 0.9975 - val_loss: 0.0363 - val_accuracy: 0.9907\n",
      "Epoch 142/200\n",
      "483/483 [==============================] - 11s 23ms/step - loss: 0.0140 - accuracy: 0.9971 - val_loss: 0.0359 - val_accuracy: 0.9889\n",
      "Epoch 143/200\n",
      "483/483 [==============================] - 11s 23ms/step - loss: 0.0109 - accuracy: 0.9983 - val_loss: 0.0301 - val_accuracy: 0.9930\n",
      "Epoch 144/200\n",
      "483/483 [==============================] - 11s 23ms/step - loss: 0.0113 - accuracy: 0.9979 - val_loss: 0.0348 - val_accuracy: 0.9907\n",
      "Epoch 145/200\n",
      "483/483 [==============================] - 11s 22ms/step - loss: 0.0128 - accuracy: 0.9973 - val_loss: 0.0323 - val_accuracy: 0.9907\n",
      "Epoch 146/200\n",
      "483/483 [==============================] - 11s 23ms/step - loss: 0.0126 - accuracy: 0.9972 - val_loss: 0.0321 - val_accuracy: 0.9895\n",
      "Epoch 147/200\n",
      "483/483 [==============================] - 11s 23ms/step - loss: 0.0144 - accuracy: 0.9969 - val_loss: 0.0369 - val_accuracy: 0.9901\n",
      "Epoch 148/200\n",
      "483/483 [==============================] - 11s 23ms/step - loss: 0.0101 - accuracy: 0.9986 - val_loss: 0.0323 - val_accuracy: 0.9918\n",
      "Epoch 149/200\n",
      "483/483 [==============================] - 11s 23ms/step - loss: 0.0111 - accuracy: 0.9973 - val_loss: 0.0336 - val_accuracy: 0.9913\n",
      "Epoch 150/200\n",
      "483/483 [==============================] - 11s 23ms/step - loss: 0.0116 - accuracy: 0.9977 - val_loss: 0.0325 - val_accuracy: 0.9907\n",
      "Epoch 151/200\n",
      "483/483 [==============================] - 11s 23ms/step - loss: 0.0098 - accuracy: 0.9982 - val_loss: 0.0312 - val_accuracy: 0.9907\n",
      "Epoch 152/200\n",
      "483/483 [==============================] - 11s 23ms/step - loss: 0.0116 - accuracy: 0.9976 - val_loss: 0.0369 - val_accuracy: 0.9895\n",
      "Epoch 153/200\n",
      "483/483 [==============================] - 11s 23ms/step - loss: 0.0098 - accuracy: 0.9980 - val_loss: 0.0281 - val_accuracy: 0.9918\n",
      "Epoch 154/200\n",
      "483/483 [==============================] - 11s 22ms/step - loss: 0.0113 - accuracy: 0.9976 - val_loss: 0.0273 - val_accuracy: 0.9924\n",
      "Epoch 155/200\n",
      "483/483 [==============================] - 11s 23ms/step - loss: 0.0114 - accuracy: 0.9971 - val_loss: 0.0307 - val_accuracy: 0.9907\n",
      "Epoch 156/200\n",
      "483/483 [==============================] - 11s 23ms/step - loss: 0.0094 - accuracy: 0.9983 - val_loss: 0.0292 - val_accuracy: 0.9913\n",
      "Epoch 157/200\n",
      "483/483 [==============================] - 11s 23ms/step - loss: 0.0097 - accuracy: 0.9979 - val_loss: 0.0262 - val_accuracy: 0.9924\n",
      "Epoch 158/200\n",
      "483/483 [==============================] - 11s 23ms/step - loss: 0.0089 - accuracy: 0.9986 - val_loss: 0.0302 - val_accuracy: 0.9907\n",
      "Epoch 159/200\n",
      "483/483 [==============================] - 11s 23ms/step - loss: 0.0107 - accuracy: 0.9978 - val_loss: 0.0315 - val_accuracy: 0.9907\n",
      "Epoch 160/200\n",
      "483/483 [==============================] - 11s 23ms/step - loss: 0.0109 - accuracy: 0.9972 - val_loss: 0.0309 - val_accuracy: 0.9907\n",
      "Epoch 161/200\n",
      "483/483 [==============================] - 11s 23ms/step - loss: 0.0098 - accuracy: 0.9979 - val_loss: 0.0307 - val_accuracy: 0.9901\n",
      "Epoch 162/200\n",
      "483/483 [==============================] - 11s 23ms/step - loss: 0.0096 - accuracy: 0.9979 - val_loss: 0.0361 - val_accuracy: 0.9883\n",
      "Epoch 163/200\n",
      "483/483 [==============================] - 11s 23ms/step - loss: 0.0092 - accuracy: 0.9984 - val_loss: 0.0308 - val_accuracy: 0.9918\n",
      "Epoch 164/200\n",
      "483/483 [==============================] - 11s 23ms/step - loss: 0.0081 - accuracy: 0.9984 - val_loss: 0.0295 - val_accuracy: 0.9924\n",
      "Epoch 165/200\n",
      "483/483 [==============================] - 11s 23ms/step - loss: 0.0096 - accuracy: 0.9977 - val_loss: 0.0327 - val_accuracy: 0.9895\n",
      "Epoch 166/200\n",
      "483/483 [==============================] - 11s 23ms/step - loss: 0.0095 - accuracy: 0.9977 - val_loss: 0.0339 - val_accuracy: 0.9907\n",
      "Epoch 167/200\n",
      "483/483 [==============================] - 11s 23ms/step - loss: 0.0109 - accuracy: 0.9973 - val_loss: 0.0255 - val_accuracy: 0.9936\n",
      "Epoch 168/200\n",
      "483/483 [==============================] - 11s 23ms/step - loss: 0.0112 - accuracy: 0.9976 - val_loss: 0.0279 - val_accuracy: 0.9918\n",
      "Epoch 169/200\n",
      "483/483 [==============================] - 11s 23ms/step - loss: 0.0084 - accuracy: 0.9985 - val_loss: 0.0298 - val_accuracy: 0.9907\n",
      "Epoch 170/200\n",
      "483/483 [==============================] - 11s 23ms/step - loss: 0.0080 - accuracy: 0.9986 - val_loss: 0.0304 - val_accuracy: 0.9930\n",
      "Epoch 171/200\n",
      "483/483 [==============================] - 11s 23ms/step - loss: 0.0079 - accuracy: 0.9988 - val_loss: 0.0322 - val_accuracy: 0.9907\n",
      "Epoch 172/200\n",
      "483/483 [==============================] - 11s 23ms/step - loss: 0.0082 - accuracy: 0.9983 - val_loss: 0.0272 - val_accuracy: 0.9924\n",
      "Epoch 173/200\n",
      "483/483 [==============================] - 11s 23ms/step - loss: 0.0079 - accuracy: 0.9984 - val_loss: 0.0263 - val_accuracy: 0.9907\n",
      "Epoch 174/200\n",
      "483/483 [==============================] - 11s 23ms/step - loss: 0.0080 - accuracy: 0.9983 - val_loss: 0.0267 - val_accuracy: 0.9924\n",
      "Epoch 175/200\n",
      "483/483 [==============================] - 11s 23ms/step - loss: 0.0109 - accuracy: 0.9976 - val_loss: 0.0278 - val_accuracy: 0.9907\n",
      "Epoch 176/200\n",
      "483/483 [==============================] - 11s 23ms/step - loss: 0.0080 - accuracy: 0.9981 - val_loss: 0.0318 - val_accuracy: 0.9913\n",
      "Epoch 177/200\n",
      "483/483 [==============================] - 11s 23ms/step - loss: 0.0072 - accuracy: 0.9989 - val_loss: 0.0398 - val_accuracy: 0.9901\n",
      "Epoch 178/200\n",
      "483/483 [==============================] - 11s 23ms/step - loss: 0.0089 - accuracy: 0.9983 - val_loss: 0.0330 - val_accuracy: 0.9918\n",
      "Epoch 179/200\n",
      "483/483 [==============================] - 11s 23ms/step - loss: 0.0077 - accuracy: 0.9984 - val_loss: 0.0301 - val_accuracy: 0.9918\n",
      "Epoch 180/200\n",
      "483/483 [==============================] - 11s 23ms/step - loss: 0.0068 - accuracy: 0.9985 - val_loss: 0.0286 - val_accuracy: 0.9924\n",
      "Epoch 181/200\n",
      "483/483 [==============================] - 11s 23ms/step - loss: 0.0076 - accuracy: 0.9988 - val_loss: 0.0274 - val_accuracy: 0.9936\n",
      "Epoch 182/200\n",
      "483/483 [==============================] - 11s 23ms/step - loss: 0.0081 - accuracy: 0.9984 - val_loss: 0.0335 - val_accuracy: 0.9901\n",
      "Epoch 183/200\n",
      "483/483 [==============================] - 11s 23ms/step - loss: 0.0060 - accuracy: 0.9990 - val_loss: 0.0294 - val_accuracy: 0.9924\n",
      "Epoch 184/200\n",
      "483/483 [==============================] - 11s 23ms/step - loss: 0.0065 - accuracy: 0.9985 - val_loss: 0.0285 - val_accuracy: 0.9907\n",
      "Epoch 185/200\n",
      "483/483 [==============================] - 11s 23ms/step - loss: 0.0081 - accuracy: 0.9981 - val_loss: 0.0290 - val_accuracy: 0.9907\n",
      "Epoch 186/200\n",
      "483/483 [==============================] - 11s 23ms/step - loss: 0.0060 - accuracy: 0.9986 - val_loss: 0.0271 - val_accuracy: 0.9918\n",
      "Epoch 187/200\n",
      "483/483 [==============================] - 11s 23ms/step - loss: 0.0077 - accuracy: 0.9985 - val_loss: 0.0288 - val_accuracy: 0.9895\n",
      "Epoch 188/200\n",
      "483/483 [==============================] - 11s 23ms/step - loss: 0.0065 - accuracy: 0.9984 - val_loss: 0.0323 - val_accuracy: 0.9907\n",
      "Epoch 189/200\n",
      "483/483 [==============================] - 11s 23ms/step - loss: 0.0064 - accuracy: 0.9985 - val_loss: 0.0317 - val_accuracy: 0.9924\n",
      "Epoch 190/200\n",
      "483/483 [==============================] - 11s 23ms/step - loss: 0.0083 - accuracy: 0.9981 - val_loss: 0.0311 - val_accuracy: 0.9924\n",
      "Epoch 191/200\n",
      "483/483 [==============================] - 11s 23ms/step - loss: 0.0064 - accuracy: 0.9989 - val_loss: 0.0466 - val_accuracy: 0.9872\n",
      "Epoch 192/200\n",
      "483/483 [==============================] - 11s 23ms/step - loss: 0.0061 - accuracy: 0.9987 - val_loss: 0.0280 - val_accuracy: 0.9936\n",
      "Epoch 193/200\n",
      "483/483 [==============================] - 11s 23ms/step - loss: 0.0052 - accuracy: 0.9994 - val_loss: 0.0278 - val_accuracy: 0.9930\n",
      "Epoch 194/200\n",
      "483/483 [==============================] - 11s 23ms/step - loss: 0.0064 - accuracy: 0.9988 - val_loss: 0.0317 - val_accuracy: 0.9924\n",
      "Epoch 195/200\n",
      "483/483 [==============================] - 11s 23ms/step - loss: 0.0071 - accuracy: 0.9983 - val_loss: 0.0297 - val_accuracy: 0.9913\n",
      "Epoch 196/200\n",
      "483/483 [==============================] - 11s 22ms/step - loss: 0.0058 - accuracy: 0.9988 - val_loss: 0.0284 - val_accuracy: 0.9918\n",
      "Epoch 197/200\n",
      "483/483 [==============================] - 11s 23ms/step - loss: 0.0065 - accuracy: 0.9984 - val_loss: 0.0304 - val_accuracy: 0.9918\n",
      "Epoch 198/200\n",
      "483/483 [==============================] - 11s 23ms/step - loss: 0.0079 - accuracy: 0.9982 - val_loss: 0.0354 - val_accuracy: 0.9895\n",
      "Epoch 199/200\n",
      "483/483 [==============================] - 11s 23ms/step - loss: 0.0057 - accuracy: 0.9988 - val_loss: 0.0299 - val_accuracy: 0.9930\n",
      "Epoch 200/200\n",
      "483/483 [==============================] - 11s 23ms/step - loss: 0.0057 - accuracy: 0.9990 - val_loss: 0.0316 - val_accuracy: 0.9918\n",
      "Json file saved for: 1e-05_bs_32 \n",
      "Model saved for :1e-05_bs_32 \n"
     ]
    }
   ],
   "source": [
    "learning_rates = [0.00001]\n",
    "batch_sizes=[32]\n",
    "num_heads=[6]\n",
    "input_shape = X_train.shape[1:]\n",
    "for learning_rate in learning_rates:\n",
    "    for batch_size in batch_sizes:\n",
    "        for num_head in num_heads:\n",
    "            \n",
    "            input_shape = X_train.shape[1:]\n",
    "\n",
    "            model = build_model(\n",
    "                input_shape,\n",
    "                head_size=128,\n",
    "                num_heads=num_head ,\n",
    "                ff_dim=32,\n",
    "                num_transformer_blocks=4,\n",
    "                mlp_units=[128],\n",
    "                mlp_dropout=0.4,\n",
    "                dropout=0.25,\n",
    "            )\n",
    "\n",
    "            model.compile(\n",
    "                loss=\"sparse_categorical_crossentropy\",\n",
    "                optimizer=keras.optimizers.Adam(learning_rate=learning_rate ),\n",
    "                metrics=[\"accuracy\"],\n",
    "            )\n",
    "            # loop through the folds and fit the model on each fold\n",
    "            #model.summary()\n",
    "            kf = KFold(n_splits=10,shuffle=True)\n",
    "            for i, (train_index, val_index) in enumerate(kf.split(X, y)):\n",
    "                \n",
    "                # get the train and validation data for this fold\n",
    "                X_train, y_train = X[train_index], y[train_index]\n",
    "                X_val, y_val = X[val_index], y[val_index]\n",
    "                \n",
    "                \n",
    "                history=model.fit(X_train,y_train,validation_split=0.2,epochs=200,batch_size=batch_size,validation_data=(X_val, y_val),verbose=1).history\n",
    "                import json\n",
    "\n",
    "                # Save the training history to a file\n",
    "                with open(f'my_model_lr_{learning_rate}_bs_{batch_size}.json', 'w') as f:\n",
    "                    json.dump(history, f)\n",
    "                print(f\"Json file saved for: {learning_rate}_bs_{batch_size} \")\n",
    "                model.save(f'my_model_lr_{learning_rate}_bs_{batch_size}.h5')\n",
    "                print(f\"Model saved for :{learning_rate}_bs_{batch_size} \")\n",
    "                break\n",
    "                "
   ]
  },
  {
   "cell_type": "code",
   "execution_count": 148,
   "metadata": {
    "colab": {
     "base_uri": "https://localhost:8080/"
    },
    "id": "lS_saWFvSUBh",
    "outputId": "712891aa-f253-422d-c3c7-6d825e93a19f"
   },
   "outputs": [
    {
     "name": "stdout",
     "output_type": "stream",
     "text": [
      "108/108 [==============================] - 1s 7ms/step - loss: 0.0061 - accuracy: 0.9983\n"
     ]
    },
    {
     "data": {
      "text/plain": [
       "[0.00607702462002635, 0.998251736164093]"
      ]
     },
     "execution_count": 148,
     "metadata": {},
     "output_type": "execute_result"
    }
   ],
   "source": [
    "model.evaluate(X_test, y_test, verbose=1)"
   ]
  },
  {
   "cell_type": "code",
   "execution_count": 149,
   "metadata": {
    "colab": {
     "base_uri": "https://localhost:8080/"
    },
    "id": "un9BopCbSWkm",
    "outputId": "ebc48130-452f-460f-ec12-c684803bd344"
   },
   "outputs": [
    {
     "name": "stdout",
     "output_type": "stream",
     "text": [
      "108/108 [==============================] - 2s 6ms/step\n"
     ]
    }
   ],
   "source": [
    "y_pred = model.predict(X_test)"
   ]
  },
  {
   "cell_type": "code",
   "execution_count": 150,
   "metadata": {
    "id": "o_nnybk9SYTR"
   },
   "outputs": [],
   "source": [
    "y_pred1=np.argmax(y_pred,axis=1)"
   ]
  },
  {
   "cell_type": "code",
   "execution_count": 151,
   "metadata": {
    "colab": {
     "base_uri": "https://localhost:8080/"
    },
    "id": "FlIAQ9K8SaGy",
    "outputId": "65a07a29-e866-444f-dca3-6ecb7c8650d4"
   },
   "outputs": [
    {
     "name": "stdout",
     "output_type": "stream",
     "text": [
      "accuracy: 0.9982517482517482\n"
     ]
    },
    {
     "data": {
      "text/plain": [
       "array([[305,   1,   0,   0,   0,   0,   0,   0,   0,   0,   0,   0],\n",
       "       [  0, 304,   0,   0,   0,   0,   0,   0,   0,   0,   0,   0],\n",
       "       [  0,   0, 290,   0,   0,   0,   0,   0,   0,   0,   0,   0],\n",
       "       [  0,   0,   0, 305,   0,   0,   0,   0,   0,   0,   0,   0],\n",
       "       [  0,   0,   0,   1, 291,   0,   0,   0,   0,   0,   0,   0],\n",
       "       [  0,   0,   0,   0,   0, 313,   0,   1,   0,   0,   0,   0],\n",
       "       [  0,   0,   0,   0,   0,   0, 298,   0,   0,   0,   0,   0],\n",
       "       [  0,   0,   0,   0,   0,   0,   0, 280,   0,   0,   0,   0],\n",
       "       [  0,   0,   0,   0,   0,   0,   0,   0, 310,   0,   0,   0],\n",
       "       [  0,   0,   0,   0,   0,   0,   0,   0,   0, 328,   1,   0],\n",
       "       [  0,   0,   0,   0,   0,   0,   0,   0,   0,   1, 299,   0],\n",
       "       [  0,   0,   0,   0,   0,   0,   0,   0,   0,   1,   0, 103]])"
      ]
     },
     "execution_count": 151,
     "metadata": {},
     "output_type": "execute_result"
    }
   ],
   "source": [
    "from sklearn.metrics import accuracy_score,confusion_matrix,recall_score,precision_score,f1_score, precision_recall_fscore_support\n",
    "print('accuracy:', accuracy_score(y_test, y_pred1))\n",
    "confusion_matrix(y_test,y_pred1)"
   ]
  },
  {
   "cell_type": "code",
   "execution_count": 152,
   "metadata": {
    "colab": {
     "base_uri": "https://localhost:8080/"
    },
    "id": "stodsTapSu3W",
    "outputId": "59f391a8-e935-4e04-dccf-6e93e4c3a2fd"
   },
   "outputs": [
    {
     "name": "stdout",
     "output_type": "stream",
     "text": [
      "(0.998256458621009, 0.9982517482517482, 0.9982517243355616, None)\n"
     ]
    }
   ],
   "source": [
    "print(precision_recall_fscore_support(y_test, y_pred1, average='weighted'))\n",
    "\n"
   ]
  },
  {
   "cell_type": "code",
   "execution_count": 157,
   "metadata": {
    "colab": {
     "base_uri": "https://localhost:8080/",
     "height": 313
    },
    "id": "uDQJAK0xk-R8",
    "outputId": "0826f8a5-456c-48d0-f53b-231e7b8aed0a"
   },
   "outputs": [
    {
     "data": {
      "image/png": "[encoded data removed]",
      "text/plain": [
       "<Figure size 432x288 with 1 Axes>"
      ]
     },
     "metadata": {
      "needs_background": "light"
     },
     "output_type": "display_data"
    },
    {
     "data": {
      "text/plain": [
       "<Figure size 1080x1080 with 0 Axes>"
      ]
     },
     "metadata": {},
     "output_type": "display_data"
    }
   ],
   "source": [
    "import matplotlib.pyplot as plt\n",
    "loss_train =history['loss']\n",
    "val_train =history['val_loss']\n",
    "epochs=range(0,200)\n",
    "plt.plot(epochs,loss_train,'g',label='training loss')\n",
    "plt.plot(epochs,val_train,'r',label='Val_loss')\n",
    "plt.title('training and validation loss of Merge Both merge models')\n",
    "plt.xlabel('Epochs')\n",
    "plt.ylabel('Loss')\n",
    "plt.legend()\n",
    "plt.savefig('accurary')\n",
    "plt.figure(figsize=(15, 15))\n",
    "plt.show()"
   ]
  },
  {
   "cell_type": "code",
   "execution_count": null,
   "metadata": {
    "id": "Hk5M2GlHYcqz"
   },
   "outputs": [],
   "source": [
    "from keras.models import load_model\n",
    "\n",
    "model.save('my_model.h5')"
   ]
  },
  {
   "cell_type": "code",
   "execution_count": null,
   "metadata": {
    "colab": {
     "base_uri": "https://localhost:8080/"
    },
    "id": "eVPlRPyglbUH",
    "outputId": "0da81cbb-9be1-404c-ba58-d00c43006bfa"
   },
   "outputs": [],
   "source": [
    "y_test"
   ]
  },
  {
   "cell_type": "code",
   "execution_count": 154,
   "metadata": {
    "id": "PSpD__gxlXUH"
   },
   "outputs": [],
   "source": [
    "matrix = metrics.confusion_matrix(y_test, y_pred1)\n"
   ]
  },
  {
   "cell_type": "code",
   "execution_count": 155,
   "metadata": {
    "colab": {
     "base_uri": "https://localhost:8080/",
     "height": 746
    },
    "id": "l6H4lJeRftKc",
    "outputId": "21ddfec5-e7a7-42fc-9501-eaafa087126c"
   },
   "outputs": [
    {
     "data": {
      "image/png": "[encoded data removed]",
      "text/plain": [
       "<Figure size 720x720 with 2 Axes>"
      ]
     },
     "metadata": {
      "needs_background": "light"
     },
     "output_type": "display_data"
    }
   ],
   "source": [
    "\n",
    "plt.figure(figsize=(10, 10))\n",
    "sns.heatmap(matrix,\n",
    "            cmap=\"Blues\",\n",
    "            linecolor='black',\n",
    "            linewidths=1,\n",
    "            xticklabels=LABELS,\n",
    "            yticklabels=LABELS,\n",
    "            annot=True,\n",
    "            fmt='d')\n",
    "#cmap='PuOr',\n",
    "plt.title('Confusion Matrix for MHEALTH Dataset')\n",
    "plt.ylabel('True Label')\n",
    "plt.xlabel('Predicted Label')\n",
    "plt.show()\n"
   ]
  },
  {
   "cell_type": "code",
   "execution_count": null,
   "metadata": {},
   "outputs": [],
   "source": []
  }
 ],
 "metadata": {
  "accelerator": "GPU",
  "colab": {
   "provenance": []
  },
  "gpuClass": "standard",
  "kernelspec": {
   "display_name": "Python 3 (ipykernel)",
   "language": "python",
   "name": "python3"
  },
  "language_info": {
   "codemirror_mode": {
    "name": "ipython",
    "version": 3
   },
   "file_extension": ".py",
   "mimetype": "text/x-python",
   "name": "python",
   "nbconvert_exporter": "python",
   "pygments_lexer": "ipython3",
   "version": "3.8.10"
  }
 },
 "nbformat": 4,
 "nbformat_minor": 4
}
